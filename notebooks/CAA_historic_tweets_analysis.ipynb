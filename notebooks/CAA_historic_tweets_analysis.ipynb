{
 "cells": [
  {
   "cell_type": "code",
   "execution_count": 1,
   "metadata": {},
   "outputs": [],
   "source": [
    "import pandas as pd\n",
    "import numpy as np\n",
    "import matplotlib.pyplot as plt\n",
    "from collections import Counter, defaultdict"
   ]
  },
  {
   "cell_type": "code",
   "execution_count": 2,
   "metadata": {},
   "outputs": [],
   "source": [
    "tweets_df = pd.read_csv(\"tweets_till_0901.csv\")"
   ]
  },
  {
   "cell_type": "code",
   "execution_count": 3,
   "metadata": {},
   "outputs": [
    {
     "data": {
      "text/plain": [
       "Index(['id', 'conversation_id', 'created_at', 'date', 'time', 'timezone',\n",
       "       'user_id', 'username', 'name', 'place', 'tweet', 'mentions', 'urls',\n",
       "       'photos', 'replies_count', 'retweets_count', 'likes_count', 'hashtags',\n",
       "       'cashtags', 'link', 'retweet', 'quote_url', 'video', 'near', 'geo',\n",
       "       'source', 'user_rt_id', 'user_rt', 'retweet_id', 'reply_to',\n",
       "       'retweet_date', 'translate', 'trans_src', 'trans_dest'],\n",
       "      dtype='object')"
      ]
     },
     "execution_count": 3,
     "metadata": {},
     "output_type": "execute_result"
    }
   ],
   "source": [
    "tweets_df.columns"
   ]
  },
  {
   "cell_type": "code",
   "execution_count": 4,
   "metadata": {},
   "outputs": [],
   "source": [
    "all_tweets = tweets_df[:190000]\n",
    "caa_tweets = all_tweets.tweet\n",
    "hashtags = all_tweets.hashtags\n",
    "date = all_tweets.date\n",
    "retweets_count = all_tweets.retweets_count\n",
    "likes_count = all_tweets.likes_count\n",
    "useful_tweets = list(zip(caa_tweets,date, hashtags, retweets_count, likes_count))"
   ]
  },
  {
   "cell_type": "markdown",
   "metadata": {},
   "source": [
    "#### Function to separate hindi and others"
   ]
  },
  {
   "cell_type": "code",
   "execution_count": 5,
   "metadata": {},
   "outputs": [],
   "source": [
    "def separate_english_hindi_tweets(tweets):\n",
    "    etweets = []\n",
    "    htweets= []\n",
    "    \n",
    "    for t, tweet_tup in enumerate(tweets):\n",
    "        e_flag = 1\n",
    "        tweet = tweet_tup[0]\n",
    "        for c in tweet:\n",
    "            if c == \"\\n\":\n",
    "                continue\n",
    "            if ord(c) > 31 and ord(c) < 127:\n",
    "                continue\n",
    "            elif ord(c) > 2300 and ord(c) < 2400: # hindi\n",
    "                e_flag = 0\n",
    "                htweets.append(tweet_tup)\n",
    "                break\n",
    "            else:\n",
    "                continue\n",
    "        if e_flag == 1:\n",
    "            etweets.append(tweet_tup)\n",
    "            \n",
    "    return etweets, htweets"
   ]
  },
  {
   "cell_type": "code",
   "execution_count": 6,
   "metadata": {},
   "outputs": [],
   "source": [
    "english_tweets = []\n",
    "hindi_tweets = []\n",
    "english_tweets, hindi_tweets = separate_english_hindi_tweets(useful_tweets)"
   ]
  },
  {
   "cell_type": "markdown",
   "metadata": {},
   "source": [
    "#### Separate English from others"
   ]
  },
  {
   "cell_type": "code",
   "execution_count": 7,
   "metadata": {},
   "outputs": [],
   "source": [
    "etweets = []\n",
    "otweets= []\n",
    "    \n",
    "for t, etup in enumerate(english_tweets):\n",
    "    e_flag = 1\n",
    "    tweet = etup[0]\n",
    "    for c in tweet:\n",
    "        if c == \"\\n\":\n",
    "            continue\n",
    "        if ord(c) > 31 and ord(c) < 250:\n",
    "            continue\n",
    "        elif ord(c) > 8200 and ord(c) < 8400: #special punctuations\n",
    "            continue\n",
    "        elif ord(c) > 9000: #smileys\n",
    "            continue\n",
    "        else:\n",
    "#             print(c, ord(c))\n",
    "            e_flag = 0\n",
    "            break\n",
    "    if e_flag == 1:\n",
    "        etweets.append(etup)\n",
    "    else:\n",
    "        otweets.append(etup)"
   ]
  },
  {
   "cell_type": "code",
   "execution_count": 8,
   "metadata": {},
   "outputs": [
    {
     "data": {
      "text/plain": [
       "('Yet another reason why India needs #CAA: \\n\\nHindus Beaten by Pakistani Police for Hoisting Saffron Flag in Their Own Home. Video Published to Cower Other Hindus into Submission!\\n\\n https://www.youtube.com/watch?v=lTQxDeBmCyI\\xa0…\\n@MEAIndia @Swamy39 @blsanthosh @davidfrawleyved @MODIfiedVikas @ShefVaidya',\n",
       " '2020-01-08',\n",
       " \"['#caa']\",\n",
       " 0,\n",
       " 0)"
      ]
     },
     "execution_count": 8,
     "metadata": {},
     "output_type": "execute_result"
    }
   ],
   "source": [
    "etweets[0]"
   ]
  },
  {
   "cell_type": "code",
   "execution_count": 9,
   "metadata": {},
   "outputs": [],
   "source": [
    "retweet_sorted_tweets = sorted(etweets, key=lambda x: x[3], reverse=True)"
   ]
  },
  {
   "cell_type": "code",
   "execution_count": 10,
   "metadata": {},
   "outputs": [
    {
     "data": {
      "text/plain": [
       "[('#CAA + #NRC + more this Sunday on @patriotact pic.twitter.com/AIoAub8Fwu',\n",
       "  '2019-12-20',\n",
       "  \"['#caa', '#nrc']\",\n",
       "  17739,\n",
       "  42902),\n",
       " ('My university 😍\\nStudents of #PanjabUniversity in support of #CAA\\nChandigarh is not only beautiful, but Nationalist too ❤️  pic.twitter.com/NUgngteXur',\n",
       "  '2019-12-18',\n",
       "  \"['#panjabuniversity', '#caa']\",\n",
       "  9247,\n",
       "  28077),\n",
       " ('Stop watching Hindi movies of the actors, directors, writers, anyone who has supported the violent protests, looting and arson by Muzlims over #CAA. This is ONLY way to teach them a lesson. Starve them of money.',\n",
       "  '2019-12-18',\n",
       "  \"['#caa']\",\n",
       "  8570,\n",
       "  21134),\n",
       " ('Delhi with #CAA\\nDelhi with @narendramodi \\nDelhi with @AmitShah pic.twitter.com/pDgdIoZLvh',\n",
       "  '2019-12-20',\n",
       "  \"['#caa']\",\n",
       "  8561,\n",
       "  20395),\n",
       " ('#CAA is meant to provide fast track citizenship to non-Muslim families from Afghanistan, Pakistan and Bangladesh that have been lynched, raped and persecuted for generations due to their religious beliefs. \\n\\nWhatever side you’re on, make sure it’s the compassionate one.',\n",
       "  '2019-12-19',\n",
       "  \"['#caa']\",\n",
       "  6807,\n",
       "  18983),\n",
       " ('Muslims in #India are protesting against fast-tracking of citizenship to non-Muslims persecuted for decades by Muslims in Afghanistan, Pakistan and Bangladesh. \\n\\n🤷🏻\\u200d♂️\\n\\n“Thera mera rishta kya?” #CAA #BharatBananaHai https://twitter.com/anaz_oam/status/1210508671219748864\\xa0…',\n",
       "  '2019-12-30',\n",
       "  \"['#india', '#caa', '#bharatbananahai']\",\n",
       "  6493,\n",
       "  15796),\n",
       " ('It is not the #CAA they hate. They hate Hindus. That means you and me.  pic.twitter.com/3jzvUixwNv',\n",
       "  '2019-12-20',\n",
       "  \"['#caa']\",\n",
       "  6330,\n",
       "  12586),\n",
       " (\"So its Clear now Protest against #CAA is not for Political/Democratic Reason it's Ghazwa-E-Hind,Anti Hindu and Pure Fanatic Islamic Movement.  pic.twitter.com/ElR26LqOz2\",\n",
       "  '2019-12-30',\n",
       "  \"['#caa']\",\n",
       "  5850,\n",
       "  11233),\n",
       " ('Citizenship Amendment Act is too little compassion coming too late. -Sg  #CAA #NRC #CAAProtests https://www.youtube.com/watch?v=11RgVkZcPjY\\xa0…',\n",
       "  '2019-12-29',\n",
       "  \"['#caa', '#nrc', '#caaprotests']\",\n",
       "  5814,\n",
       "  15645),\n",
       " ('Modi, Omith Sho Murdobod..!\\nShoiton, Birodhi..!\\nGuess the language - Bengali.\\nGuess the place ? Parakkadavu, Kerala.\\nNow you know how serious the problem of illegal Bangladeshi is.. !\\n#CAA\\n#NRC_CAA pic.twitter.com/Ra0JKsJBef',\n",
       "  '2019-12-20',\n",
       "  \"['#caa', '#nrc_caa']\",\n",
       "  5683,\n",
       "  6382)]"
      ]
     },
     "execution_count": 10,
     "metadata": {},
     "output_type": "execute_result"
    }
   ],
   "source": [
    "retweet_sorted_tweets[:10]"
   ]
  },
  {
   "cell_type": "code",
   "execution_count": 11,
   "metadata": {},
   "outputs": [],
   "source": [
    "likes_sorted_tweets = sorted(etweets, key=lambda x: x[4], reverse=True)"
   ]
  },
  {
   "cell_type": "code",
   "execution_count": 12,
   "metadata": {},
   "outputs": [
    {
     "data": {
      "text/plain": [
       "[('#CAA + #NRC + more this Sunday on @patriotact pic.twitter.com/AIoAub8Fwu',\n",
       "  '2019-12-20',\n",
       "  \"['#caa', '#nrc']\",\n",
       "  17739,\n",
       "  42902),\n",
       " ('My university 😍\\nStudents of #PanjabUniversity in support of #CAA\\nChandigarh is not only beautiful, but Nationalist too ❤️  pic.twitter.com/NUgngteXur',\n",
       "  '2019-12-18',\n",
       "  \"['#panjabuniversity', '#caa']\",\n",
       "  9247,\n",
       "  28077),\n",
       " ('Stop watching Hindi movies of the actors, directors, writers, anyone who has supported the violent protests, looting and arson by Muzlims over #CAA. This is ONLY way to teach them a lesson. Starve them of money.',\n",
       "  '2019-12-18',\n",
       "  \"['#caa']\",\n",
       "  8570,\n",
       "  21134),\n",
       " ('India stands strong with Hon @narendramodi ji & Hon @AmitShah ji for solving decades old problem by #CAA & giving new lease of life in Bharat, to our brothers & sisters facing religious persecution in neighbouring countries.\\n\\n(Siliguri #WestBengal on 24 Dec ‘19)\\n#IndiaSupportsCAA pic.twitter.com/EnUURXAWol',\n",
       "  '2019-12-30',\n",
       "  \"['#caa', '#westbengal', '#indiasupportscaa']\",\n",
       "  5019,\n",
       "  20672),\n",
       " ('The United Muslim Action Committee will be holding a protest meeting on 21 December 2019 (6 PM to 10 PM) against #CAA & #NRC\\n\\nI’ll be addressing FELLOW INDIANS along with religious scholars & AIMIM legislators\\n\\nThis is our home & no one can force us to behave like it’s not',\n",
       "  '2019-12-17',\n",
       "  \"['#caa', '#nrc']\",\n",
       "  5317,\n",
       "  20545),\n",
       " ('Delhi with #CAA\\nDelhi with @narendramodi \\nDelhi with @AmitShah pic.twitter.com/pDgdIoZLvh',\n",
       "  '2019-12-20',\n",
       "  \"['#caa']\",\n",
       "  8561,\n",
       "  20395),\n",
       " ('#CAA is meant to provide fast track citizenship to non-Muslim families from Afghanistan, Pakistan and Bangladesh that have been lynched, raped and persecuted for generations due to their religious beliefs. \\n\\nWhatever side you’re on, make sure it’s the compassionate one.',\n",
       "  '2019-12-19',\n",
       "  \"['#caa']\",\n",
       "  6807,\n",
       "  18983),\n",
       " ('Muslims in #India are protesting against fast-tracking of citizenship to non-Muslims persecuted for decades by Muslims in Afghanistan, Pakistan and Bangladesh. \\n\\n🤷🏻\\u200d♂️\\n\\n“Thera mera rishta kya?” #CAA #BharatBananaHai https://twitter.com/anaz_oam/status/1210508671219748864\\xa0…',\n",
       "  '2019-12-30',\n",
       "  \"['#india', '#caa', '#bharatbananahai']\",\n",
       "  6493,\n",
       "  15796),\n",
       " ('Citizenship Amendment Act is too little compassion coming too late. -Sg  #CAA #NRC #CAAProtests https://www.youtube.com/watch?v=11RgVkZcPjY\\xa0…',\n",
       "  '2019-12-29',\n",
       "  \"['#caa', '#nrc', '#caaprotests']\",\n",
       "  5814,\n",
       "  15645),\n",
       " ('Telangana supports #CAA !\\n\\n#IndiawithCAA \\n\\n| @narendramodi @AmitShah @JPNadda @BJP4India @BJP4Telangana | pic.twitter.com/GpLSkygQMy',\n",
       "  '2019-12-30',\n",
       "  \"['#caa', '#indiawithcaa']\",\n",
       "  3318,\n",
       "  15273)]"
      ]
     },
     "execution_count": 12,
     "metadata": {},
     "output_type": "execute_result"
    }
   ],
   "source": [
    "likes_sorted_tweets[:10]"
   ]
  },
  {
   "cell_type": "code",
   "execution_count": 13,
   "metadata": {},
   "outputs": [],
   "source": [
    "dates = defaultdict(int) # create a dictionary for counting the number of tweets on that particular date as key-value pair\n",
    "def count_date_tweets(tweet_tups):\n",
    "    for tt in tweet_tups:\n",
    "        dates[tt[1]] += 1"
   ]
  },
  {
   "cell_type": "code",
   "execution_count": 14,
   "metadata": {},
   "outputs": [],
   "source": [
    "count_date_tweets(etweets)"
   ]
  },
  {
   "cell_type": "code",
   "execution_count": 15,
   "metadata": {},
   "outputs": [],
   "source": [
    "tweets_per_date = list(dates.values())\n",
    "dates_for_tweets = list(dates.keys())"
   ]
  },
  {
   "cell_type": "code",
   "execution_count": 16,
   "metadata": {},
   "outputs": [
    {
     "name": "stdout",
     "output_type": "stream",
     "text": [
      "242\n"
     ]
    }
   ],
   "source": [
    "print(len(tweets_per_date))"
   ]
  },
  {
   "cell_type": "code",
   "execution_count": 17,
   "metadata": {},
   "outputs": [
    {
     "name": "stdout",
     "output_type": "stream",
     "text": [
      "242\n"
     ]
    }
   ],
   "source": [
    "print(len(dates_for_tweets))"
   ]
  },
  {
   "cell_type": "code",
   "execution_count": 18,
   "metadata": {},
   "outputs": [
    {
     "name": "stdout",
     "output_type": "stream",
     "text": [
      "['2020-01-08', '2020-01-07', '2020-01-06', '2020-01-05', '2020-01-04', '2020-01-03', '2020-01-02', '2020-01-01', '2019-12-31', '2019-12-30', '2019-12-29', '2019-12-28', '2019-12-27', '2019-12-26', '2019-12-25', '2019-12-24', '2019-12-23', '2019-12-22', '2019-12-21', '2019-12-20', '2019-12-19', '2019-12-18', '2019-12-17', '2019-12-16', '2019-12-15', '2019-12-14', '2019-12-13', '2019-12-12', '2019-12-11', '2019-12-10', '2019-12-09', '2019-12-08', '2019-12-07', '2019-12-06', '2019-12-05', '2019-12-04', '2019-12-03', '2019-12-02', '2019-12-01', '2019-11-30', '2019-11-29', '2019-11-28', '2019-11-27', '2019-11-26', '2019-11-25', '2019-11-24', '2019-11-23', '2019-11-22', '2019-11-21', '2019-11-20', '2019-11-19', '2019-11-18', '2019-11-17', '2019-11-16', '2019-11-15', '2019-11-14', '2019-11-13', '2019-11-12', '2019-11-11', '2019-11-10', '2019-11-09', '2019-11-08', '2019-11-07', '2019-11-06', '2019-11-05', '2019-11-04', '2019-11-03', '2019-11-02', '2019-11-01', '2019-10-31', '2019-10-30', '2019-10-29', '2019-10-28', '2019-10-27', '2019-10-26', '2019-10-25', '2019-10-24', '2019-10-23', '2019-10-22', '2019-10-21', '2019-10-20', '2019-10-19', '2019-10-18', '2019-10-17', '2019-10-16', '2019-10-15', '2019-10-14', '2019-10-13', '2019-10-12', '2019-10-11', '2019-10-10', '2019-10-09', '2019-10-08', '2019-10-07', '2019-10-06', '2019-10-05', '2019-10-04', '2019-10-03', '2019-10-02', '2019-10-01', '2019-09-30', '2019-09-29', '2019-09-28', '2019-09-27', '2019-09-26', '2019-09-25', '2019-09-24', '2019-09-23', '2019-09-22', '2019-09-21', '2019-09-20', '2019-09-19', '2019-09-18', '2019-09-17', '2019-09-16', '2019-09-15', '2019-09-14', '2019-09-13', '2019-09-12', '2019-09-11', '2019-09-10', '2019-09-09', '2019-09-08', '2019-09-07', '2019-09-06', '2019-09-05', '2019-09-04', '2019-09-03', '2019-09-02', '2019-09-01', '2019-08-31', '2019-08-30', '2019-08-29', '2019-08-28', '2019-08-27', '2019-08-26', '2019-08-25', '2019-08-24', '2019-08-23', '2019-08-22', '2019-08-21', '2019-08-20', '2019-08-19', '2019-08-18', '2019-08-17', '2019-08-16', '2019-08-15', '2019-08-14', '2019-08-13', '2019-08-12', '2019-08-11', '2019-08-10', '2019-08-09', '2019-08-08', '2019-08-07', '2019-08-06', '2019-08-05', '2019-08-04', '2019-08-03', '2019-08-02', '2019-08-01', '2019-07-31', '2019-07-30', '2019-07-29', '2019-07-28', '2019-07-27', '2019-07-26', '2019-07-25', '2019-07-24', '2019-07-23', '2019-07-22', '2019-07-21', '2019-07-20', '2019-07-19', '2019-07-18', '2019-07-17', '2019-07-16', '2019-07-15', '2019-07-14', '2019-07-13', '2019-07-12', '2019-07-11', '2019-07-10', '2019-07-09', '2019-07-08', '2019-07-07', '2019-07-06', '2019-07-05', '2019-07-04', '2019-07-03', '2019-07-02', '2019-07-01', '2019-06-30', '2019-06-29', '2019-06-28', '2019-06-27', '2019-06-26', '2019-06-25', '2019-06-24', '2019-06-23', '2019-06-22', '2019-06-21', '2019-06-20', '2019-06-19', '2019-06-18', '2019-06-17', '2019-06-16', '2019-06-15', '2019-06-14', '2019-06-13', '2019-06-12', '2019-06-11', '2019-06-10', '2019-06-09', '2019-06-08', '2019-06-07', '2019-06-06', '2019-06-05', '2019-06-04', '2019-06-03', '2019-06-02', '2019-06-01', '2019-05-31', '2019-05-30', '2019-05-29', '2019-05-28', '2019-05-27', '2019-05-26', '2019-05-25', '2019-05-24', '2019-05-23', '2019-05-22', '2019-05-21', '2019-05-20', '2019-05-19', '2019-05-18', '2019-05-17', '2019-05-16', '2019-05-15', '2019-05-14', '2019-05-13', '2019-05-12']\n"
     ]
    }
   ],
   "source": [
    "print(dates_for_tweets)"
   ]
  },
  {
   "cell_type": "code",
   "execution_count": 19,
   "metadata": {},
   "outputs": [],
   "source": [
    "# %matplotlib auto\n",
    "# plt.barh(list(dates.keys()), list(dates.values()))\n",
    "# plt.show()"
   ]
  },
  {
   "cell_type": "code",
   "execution_count": 20,
   "metadata": {},
   "outputs": [
    {
     "data": {
      "text/plain": [
       "207"
      ]
     },
     "execution_count": 20,
     "metadata": {},
     "output_type": "execute_result"
    }
   ],
   "source": [
    "dates_for_tweets.index('2019-06-15')"
   ]
  },
  {
   "cell_type": "code",
   "execution_count": 21,
   "metadata": {},
   "outputs": [
    {
     "data": {
      "text/plain": [
       "(\"#pune modern college,pune principal gives warning to my friend.he protest against #CAA principal said you want to complete degree or not ? Don't protest here.\\n#IStandwithDeepika #LaxmiAgarwal @thepeeinghuman @dhruv_rathee @GAUAHAR_KHAN @ReallySwara pic.twitter.com/wupnCHyt5g\",\n",
       " '2020-01-08',\n",
       " \"['#pune', '#caa', '#istandwithdeepika', '#laxmiagarwal']\",\n",
       " 0,\n",
       " 0)"
      ]
     },
     "execution_count": 21,
     "metadata": {},
     "output_type": "execute_result"
    }
   ],
   "source": [
    "etweets[107]"
   ]
  },
  {
   "cell_type": "code",
   "execution_count": null,
   "metadata": {},
   "outputs": [],
   "source": []
  }
 ],
 "metadata": {
  "kernelspec": {
   "display_name": "Python 3",
   "language": "python",
   "name": "python3"
  },
  "language_info": {
   "codemirror_mode": {
    "name": "ipython",
    "version": 3
   },
   "file_extension": ".py",
   "mimetype": "text/x-python",
   "name": "python",
   "nbconvert_exporter": "python",
   "pygments_lexer": "ipython3",
   "version": "3.6.8"
  }
 },
 "nbformat": 4,
 "nbformat_minor": 2
}
