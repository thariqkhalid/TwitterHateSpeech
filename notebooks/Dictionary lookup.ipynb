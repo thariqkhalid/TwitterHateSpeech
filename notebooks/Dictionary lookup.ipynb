{
 "cells": [
  {
   "cell_type": "code",
   "execution_count": 20,
   "metadata": {},
   "outputs": [],
   "source": [
    "UPPERLETTERS = 'ABCDEFGHIJKLMNOPQRSTUVWXYZ'\n",
    "LETTERS_AND_SPACE = UPPERLETTERS + UPPERLETTERS.lower() + ' \\t\\n'\n",
    "def loadDictionary():\n",
    "    dictionaryFile = open('dictionary.txt')\n",
    "    englishWords = {}\n",
    "    for word in dictionaryFile.read().split('\\n'):\n",
    "        englishWords[word] = None\n",
    "        dictionaryFile.close()\n",
    "        return englishWords\n",
    "ENGLISH_WORDS = loadDictionary()\n",
    "def getEnglishCount(message):\n",
    "    message = message.upper()\n",
    "    message = removeNonLetters(message)\n",
    "    possibleWords = message.split()\n",
    "    \n",
    "    if possibleWords == []:\n",
    "        return 0.0 # no words at all, so return \n",
    "    matches = 0\n",
    "    for word in possibleWords:\n",
    "        if word in ENGLISH_WORDS:\n",
    "            matches += 1\n",
    "    return float(matches) / len(possibleWords)\n",
    "def removeNonLetters(message):\n",
    "    lettersOnly = []\n",
    "    for symbol in message:\n",
    "        if symbol in LETTERS_AND_SPACE:\n",
    "            lettersOnly.append(symbol)\n",
    "    return ''.join(lettersOnly)\n",
    "def isEnglish(message, wordPercentage=20, letterPercentage=85):\n",
    "    wordsMatch = getEnglishCount(message) * 100 >= wordPercentage\n",
    "    numLetters = len(removeNonLetters(message))\n",
    "    messageLettersPercentage = float(numLetters) / len(message) * 100\n",
    "    lettersMatch = messageLettersPercentage >= letterPercentage\n",
    "    return wordsMatch and lettersMatch    "
   ]
  },
  {
   "cell_type": "code",
   "execution_count": null,
   "metadata": {},
   "outputs": [],
   "source": []
  }
 ],
 "metadata": {
  "kernelspec": {
   "display_name": "Python 2",
   "language": "python",
   "name": "python2"
  },
  "language_info": {
   "codemirror_mode": {
    "name": "ipython",
    "version": 2
   },
   "file_extension": ".py",
   "mimetype": "text/x-python",
   "name": "python",
   "nbconvert_exporter": "python",
   "pygments_lexer": "ipython2",
   "version": "2.7.16"
  }
 },
 "nbformat": 4,
 "nbformat_minor": 2
}
