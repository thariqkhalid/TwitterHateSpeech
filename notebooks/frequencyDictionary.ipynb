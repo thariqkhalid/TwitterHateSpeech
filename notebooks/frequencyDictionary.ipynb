{
 "cells": [
  {
   "cell_type": "code",
   "execution_count": 3,
   "metadata": {},
   "outputs": [],
   "source": [
    "import pandas as pd\n",
    "import string\n",
    "import re\n",
    "\n",
    "file = pd.read_csv('../../TwitterHateSpeech/tweets_till_0901.csv')\n",
    "tweets = file.tweet\n",
    "\n",
    "englishTweets = []\n",
    "hindiTweets = []\n",
    "\n",
    "for tweet in tweets:\n",
    "    eflag=1\n",
    "    for c in tweet:\n",
    "        if c == '\\n':\n",
    "            continue\n",
    "        if ord(c)>=31 and ord(c)<=127: #ASCII for printable character as well as English characters\n",
    "            continue\n",
    "        if ord(c)>2300 and ord(c)<2400: #ASCII for Hindi characters\n",
    "            eflag=0\n",
    "            hindiTweets.append(tweet)\n",
    "            break\n",
    "        if eflag==1:\n",
    "            englishTweets.append(tweet)\n",
    "        else:\n",
    "            englishTweets.append(tweet)\n",
    "            \n",
    "freqDict=dict()\n",
    "\n",
    "for tweet in englishTweets:\n",
    "   words=tweet.split()\n",
    "   for word in words:\n",
    "       if word not in freqDict:\n",
    "           freqDict[word] = 1\n",
    "       else:\n",
    "          freqDict[word] += 1\n",
    "# print(freqDict)\n",
    "\n",
    "# words=englishTweets[11].split()\n",
    "# for word in words:\n",
    "#     if word not in freqDict:\n",
    "#         freqDict[word] = 1\n",
    "#     else:\n",
    "#         freqDict[word] += 1\n",
    "# print(freqDict)"
   ]
  },
  {
   "cell_type": "code",
   "execution_count": null,
   "metadata": {},
   "outputs": [],
   "source": []
  }
 ],
 "metadata": {
  "kernelspec": {
   "display_name": "Python 3",
   "language": "python",
   "name": "python3"
  },
  "language_info": {
   "codemirror_mode": {
    "name": "ipython",
    "version": 3
   },
   "file_extension": ".py",
   "mimetype": "text/x-python",
   "name": "python",
   "nbconvert_exporter": "python",
   "pygments_lexer": "ipython3",
   "version": "3.6.8"
  }
 },
 "nbformat": 4,
 "nbformat_minor": 2
}
