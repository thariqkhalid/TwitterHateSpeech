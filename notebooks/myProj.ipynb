{
 "cells": [
  {
   "cell_type": "code",
   "execution_count": 2,
   "metadata": {},
   "outputs": [
    {
     "name": "stderr",
     "output_type": "stream",
     "text": [
      "[nltk_data] Downloading package wordnet to\n",
      "[nltk_data]     C:\\Users\\hp\\AppData\\Roaming\\nltk_data...\n",
      "[nltk_data]   Package wordnet is already up-to-date!\n",
      "[nltk_data] Downloading package punkt to\n",
      "[nltk_data]     C:\\Users\\hp\\AppData\\Roaming\\nltk_data...\n",
      "[nltk_data]   Package punkt is already up-to-date!\n"
     ]
    }
   ],
   "source": [
    "import pandas as pd\n",
    "import numpy as np\n",
    "import matplotlib.pyplot as plt\n",
    "from collections import Counter, defaultdict\n",
    "\n",
    "import string, re\n",
    "import nltk\n",
    "nltk.download('wordnet')\n",
    "from nltk.stem import PorterStemmer, WordNetLemmatizer\n",
    "from nltk.tokenize import word_tokenize\n",
    "nltk.download('punkt')\n",
    "from nltk.corpus import stopwords\n",
    "import spacy"
   ]
  },
  {
   "cell_type": "code",
   "execution_count": 3,
   "metadata": {},
   "outputs": [],
   "source": [
    "tweets_df = pd.read_csv('C:/Users/hp/Desktop/HateSpeech/onlineDatasets/caa-tweets-till-9012020/file.csv')"
   ]
  },
  {
   "cell_type": "code",
   "execution_count": 4,
   "metadata": {},
   "outputs": [
    {
     "data": {
      "text/plain": [
       "Index(['id', 'conversation_id', 'created_at', 'date', 'time', 'timezone',\n",
       "       'user_id', 'username', 'name', 'place', 'tweet', 'mentions', 'urls',\n",
       "       'photos', 'replies_count', 'retweets_count', 'likes_count', 'hashtags',\n",
       "       'cashtags', 'link', 'retweet', 'quote_url', 'video', 'near', 'geo',\n",
       "       'source', 'user_rt_id', 'user_rt', 'retweet_id', 'reply_to',\n",
       "       'retweet_date', 'translate', 'trans_src', 'trans_dest'],\n",
       "      dtype='object')"
      ]
     },
     "execution_count": 4,
     "metadata": {},
     "output_type": "execute_result"
    }
   ],
   "source": [
    "tweets_df.columns"
   ]
  },
  {
   "cell_type": "code",
   "execution_count": 5,
   "metadata": {},
   "outputs": [],
   "source": [
    "all_tweets = tweets_df[:190000]\n",
    "caa_tweets = all_tweets.tweet\n",
    "hashtags = all_tweets.hashtags\n",
    "date = all_tweets.date\n",
    "retweets_count = all_tweets.retweets_count\n",
    "likes_count = all_tweets.likes_count\n",
    "useful_tweets = list(zip(caa_tweets,date, hashtags, retweets_count, likes_count))"
   ]
  },
  {
   "cell_type": "code",
   "execution_count": 6,
   "metadata": {},
   "outputs": [],
   "source": [
    "# Function to separate hindi and others\n",
    "\n",
    "def separate_english_hindi_tweets(tweets):\n",
    "    etweets = []\n",
    "    htweets= []\n",
    "    \n",
    "    for t, tweet_tup in enumerate(tweets):\n",
    "        e_flag = 1\n",
    "        tweet = tweet_tup[0]\n",
    "        for c in tweet:\n",
    "            if c == \"\\n\":\n",
    "                continue\n",
    "            if ord(c) > 31 and ord(c) < 127:\n",
    "                continue\n",
    "            elif ord(c) > 2300 and ord(c) < 2400: # hindi\n",
    "                e_flag = 0\n",
    "                htweets.append(tweet_tup)\n",
    "                break\n",
    "            else:\n",
    "                continue\n",
    "        if e_flag == 1:\n",
    "            etweets.append(tweet_tup)\n",
    "            \n",
    "    return etweets, htweets"
   ]
  },
  {
   "cell_type": "code",
   "execution_count": 7,
   "metadata": {},
   "outputs": [],
   "source": [
    "english_tweets = []\n",
    "hindi_tweets = []\n",
    "english_tweets, hindi_tweets = separate_english_hindi_tweets(useful_tweets)"
   ]
  },
  {
   "cell_type": "code",
   "execution_count": 8,
   "metadata": {},
   "outputs": [],
   "source": [
    "# Separate English from others\n",
    "\n",
    "etweets = []\n",
    "otweets= []\n",
    "    \n",
    "for t, etup in enumerate(english_tweets):\n",
    "    e_flag = 1\n",
    "    tweet = etup[0]\n",
    "    for c in tweet:\n",
    "        if c == \"\\n\":\n",
    "            continue\n",
    "        if ord(c) > 31 and ord(c) < 250:\n",
    "            continue\n",
    "        elif ord(c) > 8200 and ord(c) < 8400: #special punctuations\n",
    "            continue\n",
    "        elif ord(c) > 9000: #smileys\n",
    "            continue\n",
    "        else:\n",
    "#             print(c, ord(c))\n",
    "            e_flag = 0\n",
    "            break\n",
    "    if e_flag == 1:\n",
    "        etweets.append(etup)\n",
    "    else:\n",
    "        otweets.append(etup)"
   ]
  },
  {
   "cell_type": "code",
   "execution_count": 9,
   "metadata": {},
   "outputs": [
    {
     "data": {
      "text/plain": [
       "('Yet another reason why India needs #CAA: \\n\\nHindus Beaten by Pakistani Police for Hoisting Saffron Flag in Their Own Home. Video Published to Cower Other Hindus into Submission!\\n\\n https://www.youtube.com/watch?v=lTQxDeBmCyI\\xa0…\\n@MEAIndia @Swamy39 @blsanthosh @davidfrawleyved @MODIfiedVikas @ShefVaidya',\n",
       " '2020-01-08',\n",
       " \"['#caa']\",\n",
       " 0,\n",
       " 0)"
      ]
     },
     "execution_count": 9,
     "metadata": {},
     "output_type": "execute_result"
    }
   ],
   "source": [
    "etweets[0]"
   ]
  },
  {
   "cell_type": "code",
   "execution_count": 10,
   "metadata": {},
   "outputs": [],
   "source": [
    "retweet_sorted_tweets = sorted(etweets, key=lambda x: x[3], reverse=True)"
   ]
  },
  {
   "cell_type": "code",
   "execution_count": 11,
   "metadata": {},
   "outputs": [
    {
     "data": {
      "text/plain": [
       "[('#CAA + #NRC + more this Sunday on @patriotact pic.twitter.com/AIoAub8Fwu',\n",
       "  '2019-12-20',\n",
       "  \"['#caa', '#nrc']\",\n",
       "  17739,\n",
       "  42902),\n",
       " ('My university 😍\\nStudents of #PanjabUniversity in support of #CAA\\nChandigarh is not only beautiful, but Nationalist too ❤️  pic.twitter.com/NUgngteXur',\n",
       "  '2019-12-18',\n",
       "  \"['#panjabuniversity', '#caa']\",\n",
       "  9247,\n",
       "  28077),\n",
       " ('Stop watching Hindi movies of the actors, directors, writers, anyone who has supported the violent protests, looting and arson by Muzlims over #CAA. This is ONLY way to teach them a lesson. Starve them of money.',\n",
       "  '2019-12-18',\n",
       "  \"['#caa']\",\n",
       "  8570,\n",
       "  21134),\n",
       " ('Delhi with #CAA\\nDelhi with @narendramodi \\nDelhi with @AmitShah pic.twitter.com/pDgdIoZLvh',\n",
       "  '2019-12-20',\n",
       "  \"['#caa']\",\n",
       "  8561,\n",
       "  20395),\n",
       " ('#CAA is meant to provide fast track citizenship to non-Muslim families from Afghanistan, Pakistan and Bangladesh that have been lynched, raped and persecuted for generations due to their religious beliefs. \\n\\nWhatever side you’re on, make sure it’s the compassionate one.',\n",
       "  '2019-12-19',\n",
       "  \"['#caa']\",\n",
       "  6807,\n",
       "  18983),\n",
       " ('Muslims in #India are protesting against fast-tracking of citizenship to non-Muslims persecuted for decades by Muslims in Afghanistan, Pakistan and Bangladesh. \\n\\n🤷🏻\\u200d♂️\\n\\n“Thera mera rishta kya?” #CAA #BharatBananaHai https://twitter.com/anaz_oam/status/1210508671219748864\\xa0…',\n",
       "  '2019-12-30',\n",
       "  \"['#india', '#caa', '#bharatbananahai']\",\n",
       "  6493,\n",
       "  15796),\n",
       " ('It is not the #CAA they hate. They hate Hindus. That means you and me.  pic.twitter.com/3jzvUixwNv',\n",
       "  '2019-12-20',\n",
       "  \"['#caa']\",\n",
       "  6330,\n",
       "  12586),\n",
       " (\"So its Clear now Protest against #CAA is not for Political/Democratic Reason it's Ghazwa-E-Hind,Anti Hindu and Pure Fanatic Islamic Movement.  pic.twitter.com/ElR26LqOz2\",\n",
       "  '2019-12-30',\n",
       "  \"['#caa']\",\n",
       "  5850,\n",
       "  11233),\n",
       " ('Citizenship Amendment Act is too little compassion coming too late. -Sg  #CAA #NRC #CAAProtests https://www.youtube.com/watch?v=11RgVkZcPjY\\xa0…',\n",
       "  '2019-12-29',\n",
       "  \"['#caa', '#nrc', '#caaprotests']\",\n",
       "  5814,\n",
       "  15645),\n",
       " ('Modi, Omith Sho Murdobod..!\\nShoiton, Birodhi..!\\nGuess the language - Bengali.\\nGuess the place ? Parakkadavu, Kerala.\\nNow you know how serious the problem of illegal Bangladeshi is.. !\\n#CAA\\n#NRC_CAA pic.twitter.com/Ra0JKsJBef',\n",
       "  '2019-12-20',\n",
       "  \"['#caa', '#nrc_caa']\",\n",
       "  5683,\n",
       "  6382)]"
      ]
     },
     "execution_count": 11,
     "metadata": {},
     "output_type": "execute_result"
    }
   ],
   "source": [
    "retweet_sorted_tweets[:10]"
   ]
  },
  {
   "cell_type": "code",
   "execution_count": 12,
   "metadata": {},
   "outputs": [],
   "source": [
    "likes_sorted_tweets = sorted(etweets, key=lambda x: x[4], reverse=True)"
   ]
  },
  {
   "cell_type": "code",
   "execution_count": 13,
   "metadata": {},
   "outputs": [
    {
     "data": {
      "text/plain": [
       "[('#CAA + #NRC + more this Sunday on @patriotact pic.twitter.com/AIoAub8Fwu',\n",
       "  '2019-12-20',\n",
       "  \"['#caa', '#nrc']\",\n",
       "  17739,\n",
       "  42902),\n",
       " ('My university 😍\\nStudents of #PanjabUniversity in support of #CAA\\nChandigarh is not only beautiful, but Nationalist too ❤️  pic.twitter.com/NUgngteXur',\n",
       "  '2019-12-18',\n",
       "  \"['#panjabuniversity', '#caa']\",\n",
       "  9247,\n",
       "  28077),\n",
       " ('Stop watching Hindi movies of the actors, directors, writers, anyone who has supported the violent protests, looting and arson by Muzlims over #CAA. This is ONLY way to teach them a lesson. Starve them of money.',\n",
       "  '2019-12-18',\n",
       "  \"['#caa']\",\n",
       "  8570,\n",
       "  21134),\n",
       " ('India stands strong with Hon @narendramodi ji & Hon @AmitShah ji for solving decades old problem by #CAA & giving new lease of life in Bharat, to our brothers & sisters facing religious persecution in neighbouring countries.\\n\\n(Siliguri #WestBengal on 24 Dec ‘19)\\n#IndiaSupportsCAA pic.twitter.com/EnUURXAWol',\n",
       "  '2019-12-30',\n",
       "  \"['#caa', '#westbengal', '#indiasupportscaa']\",\n",
       "  5019,\n",
       "  20672),\n",
       " ('The United Muslim Action Committee will be holding a protest meeting on 21 December 2019 (6 PM to 10 PM) against #CAA & #NRC\\n\\nI’ll be addressing FELLOW INDIANS along with religious scholars & AIMIM legislators\\n\\nThis is our home & no one can force us to behave like it’s not',\n",
       "  '2019-12-17',\n",
       "  \"['#caa', '#nrc']\",\n",
       "  5317,\n",
       "  20545),\n",
       " ('Delhi with #CAA\\nDelhi with @narendramodi \\nDelhi with @AmitShah pic.twitter.com/pDgdIoZLvh',\n",
       "  '2019-12-20',\n",
       "  \"['#caa']\",\n",
       "  8561,\n",
       "  20395),\n",
       " ('#CAA is meant to provide fast track citizenship to non-Muslim families from Afghanistan, Pakistan and Bangladesh that have been lynched, raped and persecuted for generations due to their religious beliefs. \\n\\nWhatever side you’re on, make sure it’s the compassionate one.',\n",
       "  '2019-12-19',\n",
       "  \"['#caa']\",\n",
       "  6807,\n",
       "  18983),\n",
       " ('Muslims in #India are protesting against fast-tracking of citizenship to non-Muslims persecuted for decades by Muslims in Afghanistan, Pakistan and Bangladesh. \\n\\n🤷🏻\\u200d♂️\\n\\n“Thera mera rishta kya?” #CAA #BharatBananaHai https://twitter.com/anaz_oam/status/1210508671219748864\\xa0…',\n",
       "  '2019-12-30',\n",
       "  \"['#india', '#caa', '#bharatbananahai']\",\n",
       "  6493,\n",
       "  15796),\n",
       " ('Citizenship Amendment Act is too little compassion coming too late. -Sg  #CAA #NRC #CAAProtests https://www.youtube.com/watch?v=11RgVkZcPjY\\xa0…',\n",
       "  '2019-12-29',\n",
       "  \"['#caa', '#nrc', '#caaprotests']\",\n",
       "  5814,\n",
       "  15645),\n",
       " ('Telangana supports #CAA !\\n\\n#IndiawithCAA \\n\\n| @narendramodi @AmitShah @JPNadda @BJP4India @BJP4Telangana | pic.twitter.com/GpLSkygQMy',\n",
       "  '2019-12-30',\n",
       "  \"['#caa', '#indiawithcaa']\",\n",
       "  3318,\n",
       "  15273)]"
      ]
     },
     "execution_count": 13,
     "metadata": {},
     "output_type": "execute_result"
    }
   ],
   "source": [
    "likes_sorted_tweets[:10]"
   ]
  },
  {
   "cell_type": "code",
   "execution_count": 13,
   "metadata": {},
   "outputs": [],
   "source": [
    "# Create a dictionary for counting the number of tweets on that particular date as key-value pair\n",
    "\n",
    "dates = defaultdict(int)\n",
    "def count_date_tweets(tweet_tups):\n",
    "    for tt in tweet_tups:\n",
    "        dates[tt[1]] += 1"
   ]
  },
  {
   "cell_type": "code",
   "execution_count": 14,
   "metadata": {},
   "outputs": [],
   "source": [
    "count_date_tweets(etweets)"
   ]
  },
  {
   "cell_type": "code",
   "execution_count": 15,
   "metadata": {},
   "outputs": [],
   "source": [
    "tweets_per_date = list(dates.values())\n",
    "dates_for_tweets = list(dates.keys())"
   ]
  },
  {
   "cell_type": "code",
   "execution_count": 14,
   "metadata": {},
   "outputs": [],
   "source": [
    "# Function to remove urls, hashtags and punctuations\n",
    "\n",
    "#import re,string\n",
    "\n",
    "def strip_links(text):\n",
    "    link_regex    = re.compile('((https?):((//)|(\\\\\\\\))+([\\w\\d:#@%/;$()~_?\\+-=\\\\\\.&](#!)?)*)', re.DOTALL)\n",
    "    links         = re.findall(link_regex, text)\n",
    "    for link in links:\n",
    "        text = text.replace(link[0], ', ')    \n",
    "    return text\n",
    "\n",
    "def strip_all_entities(text):\n",
    "    entity_prefixes = ['@','#']\n",
    "    for separator in  string.punctuation:\n",
    "        if separator not in entity_prefixes :\n",
    "            text = text.replace(separator,' ')\n",
    "    words = []\n",
    "    for word in text.split():\n",
    "        word = word.strip()\n",
    "        if word:\n",
    "            if word[0] not in entity_prefixes:\n",
    "                words.append(word)\n",
    "    return ' '.join(words)"
   ]
  },
  {
   "cell_type": "code",
   "execution_count": 17,
   "metadata": {},
   "outputs": [],
   "source": [
    "for t in str(etweets):\n",
    "    strip_all_entities(strip_links(t))"
   ]
  },
  {
   "cell_type": "code",
   "execution_count": 21,
   "metadata": {},
   "outputs": [
    {
     "ename": "NameError",
     "evalue": "name 'text' is not defined",
     "output_type": "error",
     "traceback": [
      "\u001b[1;31m---------------------------------------------------------------------------\u001b[0m",
      "\u001b[1;31mNameError\u001b[0m                                 Traceback (most recent call last)",
      "\u001b[1;32m<ipython-input-21-ac4a0178eabd>\u001b[0m in \u001b[0;36m<module>\u001b[1;34m\u001b[0m\n\u001b[1;32m----> 1\u001b[1;33m \u001b[0mprint\u001b[0m\u001b[1;33m(\u001b[0m\u001b[0mtext\u001b[0m\u001b[1;33m[\u001b[0m\u001b[1;33m:\u001b[0m\u001b[1;36m100\u001b[0m\u001b[1;33m]\u001b[0m\u001b[1;33m)\u001b[0m\u001b[1;33m\u001b[0m\u001b[1;33m\u001b[0m\u001b[0m\n\u001b[0m",
      "\u001b[1;31mNameError\u001b[0m: name 'text' is not defined"
     ]
    }
   ],
   "source": [
    "print(text[:100])"
   ]
  },
  {
   "cell_type": "code",
   "execution_count": 22,
   "metadata": {},
   "outputs": [
    {
     "name": "stdout",
     "output_type": "stream",
     "text": [
      "['yet', 'another', 'reason', 'india', 'needs', 'caa', 'nnhindus', 'beaten', 'pakistani', 'police', 'hoisting', 'saffron', 'flag', 'home', 'video', 'published', 'cower', 'hindus', 'submission', 'nn', 'https', 'wwwyoutubecomwatch', 'meaindia', 'blsanthosh', 'davidfrawleyved', 'modifiedvikas', 'shefvaidya', 'caa', 'lending', 'support', 'nation', 'wide', 'protest', 'nrc', 'caa', 'nearly', 'people', 'took', 'roads', 'udaipur', 'rajasthan', 'india', 'protests', 'timesnow', 'ani', 'zeerajasthan', 'caanrcprotests', 'caarally', 'nrc', 'caa', 'udaipur', 'rajasthan', 'india', 'protests', 'caanrcprotests', 'caarally', 'unko', 'sab', 'pata', 'hota', 'hai', 'syria', 'kya', 'ho', 'raha', 'hai', 'ye', 'maalum', 'hai', 'palestine', 'kya', 'ho', 'raha', 'hai', 'ye', 'bhi', 'pata', 'hai', 'lekin', 'caa', 'kya', 'hai', 'ye', 'nahin', 'maalum', 'caa', 'religion', 'based', 'citizenship', 'law', 'nn', 'shadan', 'farasat', 'advocate', 'supreme', 'court', 'caan', 'onrealitycheck', 'caa', 'reason', 'chidambaram', 'bail', 'plea', 'higher', 'priority', 'caa', 'caa', 'chetanbhagat', 'unable', 'understand', 'leftists', 'lutyens', 'r', 'forcibly', 'clubbing', 'caa', 'npr', 'nrc', 'fact', 'remains', 'nationwide', 'nrc', 'picture', 'draft', 'ready', 'official', 'meeting', 'took', 'place', 'infact', 'nrc', 'comes', 'effect', 'indian', 'citizens', 'least', 'https', 'caa', 'npr', 'nrc', 'nrc', 'nrc', 'bycottchhapaak', 'deepikapadukone', 'nthere', 'lots', 'issue', 'country', 'like', 'caa', 'nrc', 'npa', 'sab', 'sawaloo', 'kaaek', 'hee', 'jawab', 'pak', 'plz', 'feel', 'little', 'awkward', 'safe', 'go', 'pak', 'enjoy', 'therewith', 'freedomofspeech', 'https', 'bycottchhapaak', 'deepikapadukone', 'caa', 'nrc', 'npa', 'pak', 'pak', 'freedomofspeech', 'deepika', 'ke', 'chakkar', 'caa', 'mat', 'bhuliye', 'indiadoesnotsupportcaa', 'hashtag', 'bhi', 'trend', 'hi', 'rahna', 'chahiyen', 'isupportdeepikapadukonen', 'indiadoesnotsupportcaa', 'https', 'caa', 'indiadoesnotsupportcaa', 'isupportdeepikapadukone', 'indiadoesnotsupportcaa', 'protests', 'become', 'confluence', 'several', 'grievances', 'outcries', 'caa', 'nrc', 'npr', 'statebrutality', 'mobsterviolence', 'civilrights', 'kashmir', 'unemplyment', 'economic', 'distress', 'far', 'behind', 'caa', 'nrc', 'npr', 'statebrutality', 'mobsterviolence', 'civilrights', 'kashmir', 'unemplyment', 'amazing', 'history', 'always', 'wondered', 'far', 'hypocrisy', 'take', 'people', 'life', 'worth', 'read', 'live', 'us', 'caa', 'https', 'caa', 'religion', 'based', 'citizenship', 'law', 'nn', 'religious', 'minorities', 'facing', 'persecution', 'pakistan', 'bangladesh', 'afghanistan', 'discriminated', 'given', 'right', 'worship', 'rakesh', 'sinha', 'rajya', 'sabha', 'mp', 'bjp', 'rationale', 'behind', 'caan', 'onrealitycheck', 'caa', 'video', 'jyoti', 'nivas', 'college', 'bangalorennbjp', 'members', 'came', 'college', 'threatened', 'girl', 'students', 'sign', 'document', 'supports', 'caa', 'put', 'banner', 'college', 'states', 'india', 'supports', 'caa', 'nnrt', 'shehlarashid', 'naukarshah', 'kavitakrishnan', 'vakeelsaheba', 'caa', 'least', 'say', 'bringing', 'caa', 'nrc', 'opened', 'eyes', 'paved', 'way', 'implementing', 'ucc', 'jo', 'log', 'yeh', 'secularism', 'ki', 'baat', 'kar', 'rahe', 'hai', 'tab', 'asli', 'secularism', 'sabka', 'nikal', 'kar', 'bahar', 'aayega', 'yeh', 'saal', 'purani', 'deemak', 'hai', 'itni', 'asaani', 'se', 'nahi', 'jayegi', 'caa', 'nrc', 'ucc', 'budde', 'chuitiye', 'seems', 'lady', 'aab', 'kya', 'pata', 'usne', 'ye', 'bewakoofi', 'kyu', 'kia', 'par', 'tu', 'toh', 'samajdar', 'hai', 'iss', 'placard', 'ka', 'matlab', 'ye', 'nhi', 'k', 'sab', 'jhooot', 'modi', 'ka', 'caa', 'nrc', 'sala', 'chutiya', 'hai', 'tu', 'caa', 'nrc', 'congress', 'calls', 'opposition', 'meet', 'jan', 'caa', 'incindian', 'http', 'congress', 'caa', 'bjp', 'government', 'behaving', 'like', 'hooligans', 'peaceful', 'protests', 'caa', 'nrc', 'imagine', 'going', 'happen', 'people', 'put', 'detention', 'camps', 'could', 'well', 'one', 'usnjago', 'india', 'jago', 'n', 'caaprotests', 'caanrcprotestn', 'indiaagainstcaanrc', 'caa', 'nrc', 'india', 'caaprotests', 'caanrcprotest', 'indiaagainstcaanrc', 'congress', 'calls', 'opposition', 'meet', 'jan', 'caa', 'incindian', 'http', 'congress', 'caa', 'tell', 'people', 'saying', 'caa', 'anti', 'indian', 'muslims', 'anti', 'constitutional', 'etc', 'caa', 'deepikapadukone', 'jnu', 'right', 'platform', 'chhapaakpromotions', 'courage', 'dont', 'share', 'take', 'caa', 'hope', 'amongst', 'bollywoodcelebs', 'deny', 'enough', 'knowledge', 'caa', 'comment', 'chhapaakpromotions', 'caa', 'bollywoodcelebs', 'caa', 'hindus', 'muslims', 'jains', 'sikhs', 'christians', 'parsees', 'buddhistsnnonly', 'indiansnnindians', 'united', 'hatenindians', 'united', 'caan', 'notmypm', 'caa', 'indiadoesnotsupportcaa', 'notmypm', 'caa', 'nrc', 'indore', 'indori', 'caa', 'nrc', 'indore', 'indori', 'think', 'supreme', 'court', 'might', 'choose', 'look', 'act', 'closely', 'listening', 'pleas', 'jan', 'caa', 'caa', 'bjp', 'pay', 'heavy', 'price', 'stubbornness', 'caa', 'capt', 'amarinder', 'warns', 'shivraj', 'chauhan', 'captamarinder', 'warnsshivrajchauhan', 'breakingnews', 'politics', 'punjab', 'slider', 'todaynews', 'topnews', 'topstory', 'https', 'caa', 'captamarinder', 'warnsshivrajchauhan', 'breakingnews', 'politics', 'punjab', 'slider', 'todaynews', 'topnews', 'topstory', 'support', 'caa', 'miss', 'call', 'support', 'narendramodi', 'ji', 'amitshah', 'jin', 'n', 'indiasupportscaa', 'caa', 'indiasupportscaa', 'jnu', 'voilence', 'n', 'caa', 'protestn', 'war', 'irn', 'vs', 'us', 'jnu', 'caa', 'war', 'indiarejectscaanprnrcnresidents', 'chalavadikeri', 'blocked', 'bjp', 'leaders', 'frm', 'entering', 'locality', 'create', 'awareness', 'caa', 'monnthey', 'formed', 'human', 'chain', 'leaders', 'party', 'wrkrs', 'reached', 'distribute', 'pamphlets', 'askd', 'leaders', 'go', 'backn', 'https', 'indiarejectscaanprnrc', 'caa', 'caa', 'indian', 'muslims', 'caa', 'watching', 'telangana', 'today', 'news', 'nn', 'chaloeidgahmeeralam', 'nnpeeromurshid', 'janab', 'syed', 'atan', 'shahab', 'mahdavi', 'appeal', 'public', 'join', 'protests', 'caa', 'nrc', 'meeralam', 'eid', 'gaha', 'namaaz', 'e', 'jumma', 'january', 'syed', 'nusrat', 'mehdi', 'https', 'chaloeidgahmeeralam', 'caa', 'nrc', 'le', 'khud', 'sun', 'beta', 'caa', 'nrc', 'npr', 'ka', 'virodh', 'q', 'kr', 'rhi', 'hai', 'publicapni', 'amma', 'ki', 'zubani', 'haan', 'ab', 'bolega', 'musalmano', 'k', 'sth', 'hindu', 'dusre', 'dharm', 'k', 'log', 'q', 'protest', 'kr', 'rhe', 'wo', 'isliye', 'kr', 'rhe', 'qki', 'wo', 'schhe', 'hindustani', 'hain', 'tre', 'trh', 'cnfuzed', 'nhi', 'jinhe', 'sanvidhan', 'se', 'pyr', 'h', 'wo', 'hain', 'https', 'caa', 'nrc', 'npr', 'thank', 'god', 'anjana', 'finally', 'understood', 'caa', 'nrc', 'ok', 'https', 'caa', 'nrc', 'caa', 'shantiniketan', 'vishwabharati', 'trending', 'https', 'caa', 'shantiniketan', 'vishwabharati', 'koramangala', 'unit', 'bjp', 'also', 'said', 'forced', 'students', 'sign', 'petitions', 'supporting', 'caa', 'caa', 'hindu', 'nationalist', 'government', 'narendra', 'modi', 'pursued', 'strident', 'divisive', 'series', 'policy', 'measures', 'nthe', 'first', 'time', 'since', 'india', 'constitution', 'adopted', 'parliament', 'explicitly', 'linked', 'religious', 'identity', 'citizenship', 'thru', 'caan', 'notmypm', 'caa', 'notmypm', 'simplest', 'apt', 'analogy', 'caa', 'yet', 'https', 'caa', 'cinema', 'controversy', 'cinema', 'cinema', 'n', 'chappak', 'deepikaatjnu', 'anuragkashyap', 'caaprotest', 'caa', 'chappak', 'deepikaatjnu', 'anuragkashyap', 'caaprotest', 'caa', 'salute', 'fighting', 'spirit', 'young', 'indiansnnnn', 'bangalore', 'indiaagainstcaa', 'nrc', 'caa', 'freedompark', 'caaprotests', 'https', 'bangalore', 'indiaagainstcaa', 'nrc', 'caa', 'freedompark', 'caaprotests', 'live', 'leaders', 'various', 'opposition', 'parties', 'expected', 'participate', 'former', 'bjp', 'leader', 'yashwant', 'sinhas', 'yatra', 'protest', 'caa', 'nrc', 'gujarat', 'legnnfollow', 'updates', 'https', 'caa', 'nrc', 'ndtv', 'arvindkejriwal', 'needs', 'understand', 'indian', 'citizens', 'prove', 'citizenship', 'caa', 'mr', 'pandey', 'hindu', 'must', 'document', 'proves', 'india', 'mislead', 'indian', 'citizens', 'false', 'narrative', 'caa', 'would', 'u', 'also', 'please', 'connect', 'recent', 'nankanasahibattacked', 'caa', 'please', 'may', 'sure', 'u', 'impress', 'team', 'tukdetukdegang', 'nbut', 'u', 'r', 'trying', 'murge', 'caa', 'nrc', 'shameonbollywood', 'vishaldadlani', 'nankanasahibattacked', 'caa', 'tukdetukdegang', 'shameonbollywood', 'support', 'citizenship', 'amendment', 'act', 'caa', 'indiasupportscaannvia', 'mynt', 'caa', 'indiasupportscaa', 'girls', 'bangalore', 'ask', 'pro', 'caa', 'poster', 'removed', 'college', 'wall', 'hence', 'told', 'indian', 'caa', 'bangalore', 'jyotinivas', 'college', 'https', 'indian', 'caa', 'bangalore', 'jyotinivas', 'day', 'peaceful', 'protest', 'jamia', 'gate', 'along', 'entire', 'family', 'united', 'secular', 'india', 'nwe', 'stand', 'jmi', 'entire', 'nation', 'n', 'unitedagainsthatredn', 'westandwithjamia', 'nreject', 'caa', 'nrc', 'npr', 'pictwittercomnwhyipsjuo', 'unitedagainsthatred', 'westandwithjamia', 'caa', 'nrc', 'npr', 'certain', 'sections', 'media', 'really', 'biased', 'including', 'print', 'media', 'hardly', 'give', 'space', 'procaa', 'rally', 'march', 'media', 'everyday', 'published', 'photos', 'tukdetukdegang', 'protesters', 'try', 'paint', 'like', 'whole', 'india', 'caa', 'shameful', 'https', 'tukdetukdegang', 'caa', 'caa', 'jnu', 'protests', 'scripted', 'planned', 'firstday', 'firstshow', 'flop', 'caa', 'jnu', 'firstday', 'firstshow', 'flop', 'thousands', 'women', 'gathered', 'basavakalyan', 'protest', 'n', 'caa', 'nrc', 'npr', 'n', 'dada', 'lade', 'goron', 'se', 'hum', 'ladenge', 'choron', 'se', 'n', 'indiaagainstcaanrc', 'pictwittercomcjhrukpwpk', 'caa', 'nrc', 'npr', 'indiaagainstcaanrc', 'shame', 'india', 'called', 'educated', 'politicians', 'like', 'sitaramyechury', 'arvindkejriwal', 'rahulgandhi', 'priyankagandhi', 'think', 'caa', 'bill', 'would', 'take', 'citizenship', 'indian', 'peoplentheir', 'common', 'sense', 'ground', 'nit', 'grants', 'citizenship', 'nyou', 'fools', 'caa', 'need', 'decade', 'governments', 'ignoring', 'environmental']\n",
      "\n",
      "\n",
      "['yet', 'anoth', 'reason', 'india', 'need', 'caa', 'nnhindu', 'beaten', 'pakistani', 'polic', 'hoist', 'saffron', 'flag', 'home', 'video', 'publish', 'cower', 'hindu', 'submiss', 'nn', 'http', 'wwwyoutubecomwatch', 'meaindia', 'blsanthosh', 'davidfrawleyv', 'modifiedvika', 'shefvaidya', 'caa', 'lend', 'support', 'nation', 'wide', 'protest', 'nrc', 'caa', 'nearli', 'peopl', 'took', 'road', 'udaipur', 'rajasthan', 'india', 'protest', 'timesnow', 'ani', 'zeerajasthan', 'caanrcprotest', 'caaral', 'nrc', 'caa', 'udaipur', 'rajasthan', 'india', 'protest', 'caanrcprotest', 'caaral', 'unko', 'sab', 'pata', 'hota', 'hai', 'syria', 'kya', 'ho', 'raha', 'hai', 'ye', 'maalum', 'hai', 'palestin', 'kya', 'ho', 'raha', 'hai', 'ye', 'bhi', 'pata', 'hai', 'lekin', 'caa', 'kya', 'hai', 'ye', 'nahin', 'maalum', 'caa', 'religion', 'base', 'citizenship', 'law', 'nn', 'shadan', 'farasat', 'advoc', 'suprem', 'court', 'caan', 'onrealitycheck', 'caa', 'reason', 'chidambaram', 'bail', 'plea', 'higher', 'prioriti', 'caa', 'caa', 'chetanbhagat', 'unabl', 'understand', 'leftist', 'lutyen', 'r', 'forcibl', 'club', 'caa', 'npr', 'nrc', 'fact', 'remain', 'nationwid', 'nrc', 'pictur', 'draft', 'readi', 'offici', 'meet', 'took', 'place', 'infact', 'nrc', 'come', 'effect', 'indian', 'citizen', 'least', 'http', 'caa', 'npr', 'nrc', 'nrc', 'nrc', 'bycottchhapaak', 'deepikapadukon', 'nthere', 'lot', 'issu', 'countri', 'like', 'caa', 'nrc', 'npa', 'sab', 'sawaloo', 'kaaek', 'hee', 'jawab', 'pak', 'plz', 'feel', 'littl', 'awkward', 'safe', 'go', 'pak', 'enjoy', 'therewith', 'freedomofspeech', 'http', 'bycottchhapaak', 'deepikapadukon', 'caa', 'nrc', 'npa', 'pak', 'pak', 'freedomofspeech', 'deepika', 'ke', 'chakkar', 'caa', 'mat', 'bhuliy', 'indiadoesnotsupportcaa', 'hashtag', 'bhi', 'trend', 'hi', 'rahna', 'chahiyen', 'isupportdeepikapadukonen', 'indiadoesnotsupportcaa', 'http', 'caa', 'indiadoesnotsupportcaa', 'isupportdeepikapadukon', 'indiadoesnotsupportcaa', 'protest', 'becom', 'confluenc', 'sever', 'grievanc', 'outcri', 'caa', 'nrc', 'npr', 'statebrut', 'mobsterviol', 'civilright', 'kashmir', 'unemply', 'econom', 'distress', 'far', 'behind', 'caa', 'nrc', 'npr', 'statebrut', 'mobsterviol', 'civilright', 'kashmir', 'unemply', 'amaz', 'histori', 'alway', 'wonder', 'far', 'hypocrisi', 'take', 'peopl', 'life', 'worth', 'read', 'live', 'us', 'caa', 'http', 'caa', 'religion', 'base', 'citizenship', 'law', 'nn', 'religi', 'minor', 'face', 'persecut', 'pakistan', 'bangladesh', 'afghanistan', 'discrimin', 'given', 'right', 'worship', 'rakesh', 'sinha', 'rajya', 'sabha', 'mp', 'bjp', 'rational', 'behind', 'caan', 'onrealitycheck', 'caa', 'video', 'jyoti', 'niva', 'colleg', 'bangalorennbjp', 'member', 'came', 'colleg', 'threaten', 'girl', 'student', 'sign', 'document', 'support', 'caa', 'put', 'banner', 'colleg', 'state', 'india', 'support', 'caa', 'nnrt', 'shehlarashid', 'naukarshah', 'kavitakrishnan', 'vakeelsaheba', 'caa', 'least', 'say', 'bring', 'caa', 'nrc', 'open', 'eye', 'pave', 'way', 'implement', 'ucc', 'jo', 'log', 'yeh', 'secular', 'ki', 'baat', 'kar', 'rahe', 'hai', 'tab', 'asli', 'secular', 'sabka', 'nikal', 'kar', 'bahar', 'aayega', 'yeh', 'saal', 'purani', 'deemak', 'hai', 'itni', 'asaani', 'se', 'nahi', 'jayegi', 'caa', 'nrc', 'ucc', 'budd', 'chuitiy', 'seem', 'ladi', 'aab', 'kya', 'pata', 'usn', 'ye', 'bewakoofi', 'kyu', 'kia', 'par', 'tu', 'toh', 'samajdar', 'hai', 'iss', 'placard', 'ka', 'matlab', 'ye', 'nhi', 'k', 'sab', 'jhooot', 'modi', 'ka', 'caa', 'nrc', 'sala', 'chutiya', 'hai', 'tu', 'caa', 'nrc', 'congress', 'call', 'opposit', 'meet', 'jan', 'caa', 'incindian', 'http', 'congress', 'caa', 'bjp', 'govern', 'behav', 'like', 'hooligan', 'peac', 'protest', 'caa', 'nrc', 'imagin', 'go', 'happen', 'peopl', 'put', 'detent', 'camp', 'could', 'well', 'one', 'usnjago', 'india', 'jago', 'n', 'caaprotest', 'caanrcprotestn', 'indiaagainstcaanrc', 'caa', 'nrc', 'india', 'caaprotest', 'caanrcprotest', 'indiaagainstcaanrc', 'congress', 'call', 'opposit', 'meet', 'jan', 'caa', 'incindian', 'http', 'congress', 'caa', 'tell', 'peopl', 'say', 'caa', 'anti', 'indian', 'muslim', 'anti', 'constitut', 'etc', 'caa', 'deepikapadukon', 'jnu', 'right', 'platform', 'chhapaakpromot', 'courag', 'dont', 'share', 'take', 'caa', 'hope', 'amongst', 'bollywoodceleb', 'deni', 'enough', 'knowledg', 'caa', 'comment', 'chhapaakpromot', 'caa', 'bollywoodceleb', 'caa', 'hindu', 'muslim', 'jain', 'sikh', 'christian', 'parse', 'buddhistsnnonli', 'indiansnnindian', 'unit', 'hatenindian', 'unit', 'caan', 'notmypm', 'caa', 'indiadoesnotsupportcaa', 'notmypm', 'caa', 'nrc', 'indor', 'indori', 'caa', 'nrc', 'indor', 'indori', 'think', 'suprem', 'court', 'might', 'choos', 'look', 'act', 'close', 'listen', 'plea', 'jan', 'caa', 'caa', 'bjp', 'pay', 'heavi', 'price', 'stubborn', 'caa', 'capt', 'amarind', 'warn', 'shivraj', 'chauhan', 'captamarind', 'warnsshivrajchauhan', 'breakingnew', 'polit', 'punjab', 'slider', 'todaynew', 'topnew', 'topstori', 'http', 'caa', 'captamarind', 'warnsshivrajchauhan', 'breakingnew', 'polit', 'punjab', 'slider', 'todaynew', 'topnew', 'topstori', 'support', 'caa', 'miss', 'call', 'support', 'narendramodi', 'ji', 'amitshah', 'jin', 'n', 'indiasupportscaa', 'caa', 'indiasupportscaa', 'jnu', 'voilenc', 'n', 'caa', 'protestn', 'war', 'irn', 'vs', 'us', 'jnu', 'caa', 'war', 'indiarejectscaanprnrcnresid', 'chalavadikeri', 'block', 'bjp', 'leader', 'frm', 'enter', 'local', 'creat', 'awar', 'caa', 'monnthey', 'form', 'human', 'chain', 'leader', 'parti', 'wrkr', 'reach', 'distribut', 'pamphlet', 'askd', 'leader', 'go', 'backn', 'http', 'indiarejectscaanprnrc', 'caa', 'caa', 'indian', 'muslim', 'caa', 'watch', 'telangana', 'today', 'news', 'nn', 'chaloeidgahmeeralam', 'nnpeeromurshid', 'janab', 'sy', 'atan', 'shahab', 'mahdavi', 'appeal', 'public', 'join', 'protest', 'caa', 'nrc', 'meeralam', 'eid', 'gaha', 'namaaz', 'e', 'jumma', 'januari', 'sy', 'nusrat', 'mehdi', 'http', 'chaloeidgahmeeralam', 'caa', 'nrc', 'le', 'khud', 'sun', 'beta', 'caa', 'nrc', 'npr', 'ka', 'virodh', 'q', 'kr', 'rhi', 'hai', 'publicapni', 'amma', 'ki', 'zubani', 'haan', 'ab', 'bolega', 'musalmano', 'k', 'sth', 'hindu', 'dusr', 'dharm', 'k', 'log', 'q', 'protest', 'kr', 'rhe', 'wo', 'isliy', 'kr', 'rhe', 'qki', 'wo', 'schhe', 'hindustani', 'hain', 'tre', 'trh', 'cnfuze', 'nhi', 'jinh', 'sanvidhan', 'se', 'pyr', 'h', 'wo', 'hain', 'http', 'caa', 'nrc', 'npr', 'thank', 'god', 'anjana', 'final', 'understood', 'caa', 'nrc', 'ok', 'http', 'caa', 'nrc', 'caa', 'shantiniketan', 'vishwabharati', 'trend', 'http', 'caa', 'shantiniketan', 'vishwabharati', 'koramangala', 'unit', 'bjp', 'also', 'said', 'forc', 'student', 'sign', 'petit', 'support', 'caa', 'caa', 'hindu', 'nationalist', 'govern', 'narendra', 'modi', 'pursu', 'strident', 'divis', 'seri', 'polici', 'measur', 'nthe', 'first', 'time', 'sinc', 'india', 'constitut', 'adopt', 'parliament', 'explicitli', 'link', 'religi', 'ident', 'citizenship', 'thru', 'caan', 'notmypm', 'caa', 'notmypm', 'simplest', 'apt', 'analog', 'caa', 'yet', 'http', 'caa', 'cinema', 'controversi', 'cinema', 'cinema', 'n', 'chappak', 'deepikaatjnu', 'anuragkashyap', 'caaprotest', 'caa', 'chappak', 'deepikaatjnu', 'anuragkashyap', 'caaprotest', 'caa', 'salut', 'fight', 'spirit', 'young', 'indiansnnnn', 'bangalor', 'indiaagainstcaa', 'nrc', 'caa', 'freedompark', 'caaprotest', 'http', 'bangalor', 'indiaagainstcaa', 'nrc', 'caa', 'freedompark', 'caaprotest', 'live', 'leader', 'variou', 'opposit', 'parti', 'expect', 'particip', 'former', 'bjp', 'leader', 'yashwant', 'sinha', 'yatra', 'protest', 'caa', 'nrc', 'gujarat', 'legnnfollow', 'updat', 'http', 'caa', 'nrc', 'ndtv', 'arvindkejriw', 'need', 'understand', 'indian', 'citizen', 'prove', 'citizenship', 'caa', 'mr', 'pandey', 'hindu', 'must', 'document', 'prove', 'india', 'mislead', 'indian', 'citizen', 'fals', 'narr', 'caa', 'would', 'u', 'also', 'pleas', 'connect', 'recent', 'nankanasahibattack', 'caa', 'pleas', 'may', 'sure', 'u', 'impress', 'team', 'tukdetukdegang', 'nbut', 'u', 'r', 'tri', 'murg', 'caa', 'nrc', 'shameonbollywood', 'vishaldadlani', 'nankanasahibattack', 'caa', 'tukdetukdegang', 'shameonbollywood', 'support', 'citizenship', 'amend', 'act', 'caa', 'indiasupportscaannvia', 'mynt', 'caa', 'indiasupportscaa', 'girl', 'bangalor', 'ask', 'pro', 'caa', 'poster', 'remov', 'colleg', 'wall', 'henc', 'told', 'indian', 'caa', 'bangalor', 'jyotiniva', 'colleg', 'http', 'indian', 'caa', 'bangalor', 'jyotiniva', 'day', 'peac', 'protest', 'jamia', 'gate', 'along', 'entir', 'famili', 'unit', 'secular', 'india', 'nwe', 'stand', 'jmi', 'entir', 'nation', 'n', 'unitedagainsthatredn', 'westandwithjamia', 'nreject', 'caa', 'nrc', 'npr', 'pictwittercomnwhyipsjuo', 'unitedagainsthatr', 'westandwithjamia', 'caa', 'nrc', 'npr', 'certain', 'section', 'media', 'realli', 'bias', 'includ', 'print', 'media', 'hardli', 'give', 'space', 'procaa', 'ralli', 'march', 'media', 'everyday', 'publish', 'photo', 'tukdetukdegang', 'protest', 'tri', 'paint', 'like', 'whole', 'india', 'caa', 'shame', 'http', 'tukdetukdegang', 'caa', 'caa', 'jnu', 'protest', 'script', 'plan', 'firstday', 'firstshow', 'flop', 'caa', 'jnu', 'firstday', 'firstshow', 'flop', 'thousand', 'women', 'gather', 'basavakalyan', 'protest', 'n', 'caa', 'nrc', 'npr', 'n', 'dada', 'lade', 'goron', 'se', 'hum', 'ladeng', 'choron', 'se', 'n', 'indiaagainstcaanrc', 'pictwittercomcjhrukpwpk', 'caa', 'nrc', 'npr', 'indiaagainstcaanrc', 'shame', 'india', 'call', 'educ', 'politician', 'like', 'sitaramyechuri', 'arvindkejriw', 'rahulgandhi', 'priyankagandhi', 'think', 'caa', 'bill', 'would', 'take', 'citizenship', 'indian', 'peoplentheir', 'common', 'sens', 'ground', 'nit', 'grant', 'citizenship', 'nyou', 'fool', 'caa', 'need', 'decad', 'govern', 'ignor', 'environment']\n"
     ]
    }
   ],
   "source": [
    "# Normalization\n",
    "\n",
    "# split into words\n",
    "#from nltk.tokenize import word_tokenize\n",
    "tokens = word_tokenize(str(etweets))\n",
    "\n",
    "# convert to lower case\n",
    "tokens = [w.lower() for w in tokens]\n",
    "\n",
    "\n",
    "# remove punctuation from each word\n",
    "#import string\n",
    "table = str.maketrans('', '', string.punctuation)\n",
    "stripped = [w.translate(table) for w in tokens]\n",
    "\n",
    "# remove remaining tokens that are not alphabetic\n",
    "words = [word for word in stripped if word.isalpha()]\n",
    "\n",
    "# filter out stop words\n",
    "#from nltk.corpus import stopwords\n",
    "stop_words = set(stopwords.words('english'))\n",
    "#print(stop_words)\n",
    "words = [w for w in words if not w in stop_words]\n",
    "print(words[:1000])\n",
    "print('\\n')\n",
    "\n",
    "# stemming of words\n",
    "#from nltk.stem.porter import PorterStemmer\n",
    "porter = PorterStemmer()\n",
    "#stemmed = [porter.stem(word) for word in tokens]\n",
    "stemmed = [porter.stem(word) for word in words]\n",
    "print(stemmed[:1000])"
   ]
  },
  {
   "cell_type": "code",
   "execution_count": 25,
   "metadata": {},
   "outputs": [
    {
     "name": "stdout",
     "output_type": "stream",
     "text": [
      "[ 'yet ' , 'another ' , 'reason ' , 'india ' , 'needs ' , 'caa ' , 'nnhindus ' , 'beaten ' , 'pakistani ' , 'police ' , 'hoisting ' , 'saffron ' , 'flag ' , 'home ' , 'video ' , 'published ' , 'cower ' , 'hindus ' , 'submission ' , 'nn ' , 'https ' , 'wwwyoutubecomwatch ' , 'meaindia ' , 'blsanthosh ' , 'davidfrawleyved ' , 'modifiedvikas ' , 'shefvaidya ' , 'caa ' , 'lending ' , 'support ' , 'nation ' , 'wide ' , 'protest ' , 'nrc ' , 'caa ' , 'nearly ' , 'people ' , 'took ' , 'roads ' , 'udaipur ' , 'rajasthan ' , 'india ' , 'protests ' , 'timesnow ' , 'ani ' , 'zeerajasthan ' , 'caanrcprotests ' , 'caarally ' , 'nrc ' , 'caa ' , 'udaipur ' , 'rajasthan ' , 'india ' , 'protests ' , 'caanrcprotests ' , 'caarally ' , 'unko ' , 'sab ' , 'pata ' , 'hota ' , 'hai ' , 'syria ' , 'kya ' , 'ho ' , 'raha ' , 'hai ' , 'ye ' , 'maalum ' , 'hai ' , 'palestine ' , 'kya ' , 'ho ' , 'raha ' , 'hai ' , 'ye ' , 'bhi ' , 'pata ' , 'hai ' , 'lekin ' , 'caa ' , 'kya ' , 'hai ' , 'ye ' , 'nahin ' , 'maal\n"
     ]
    }
   ],
   "source": [
    "# Lemmatization using NLTK\n",
    "\n",
    "# Init the Wordnet Lemmatizer\n",
    "lemmatizer = WordNetLemmatizer()\n",
    "\n",
    "# Tokenize: Split the sentence into words\n",
    "#word_list = nltk.word_tokenize(str(etweets))\n",
    "#word_list = nltk.word_tokenize(str(stemmed))\n",
    "word_list = nltk.word_tokenize(str(words))\n",
    "\n",
    "# Lemmatize list of words and join\n",
    "lemmatized_output = ' '.join([lemmatizer.lemmatize(w) for w in word_list])\n",
    "print(lemmatized_output[:1000])"
   ]
  },
  {
   "cell_type": "code",
   "execution_count": 17,
   "metadata": {},
   "outputs": [
    {
     "name": "stderr",
     "output_type": "stream",
     "text": [
      "IOPub data rate exceeded.\n",
      "The notebook server will temporarily stop sending output\n",
      "to the client in order to avoid crashing it.\n",
      "To change this limit, set the config variable\n",
      "`--NotebookApp.iopub_data_rate_limit`.\n",
      "\n",
      "Current values:\n",
      "NotebookApp.iopub_data_rate_limit=1000000.0 (bytes/sec)\n",
      "NotebookApp.rate_limit_window=3.0 (secs)\n",
      "\n"
     ]
    },
    {
     "name": "stdout",
     "output_type": "stream",
     "text": [
      "\n"
     ]
    }
   ],
   "source": [
    "# Counting the frequency of words\n",
    "\n",
    "freqDict=dict()\n",
    "\n",
    "for tweet in etweets:\n",
    "   #words=tweet.split()\n",
    "   for word in tweet:\n",
    "        if word not in freqDict:\n",
    "            freqDict[word] = 1\n",
    "        else:\n",
    "            freqDict[word] += 1\n",
    "print(freqDict)"
   ]
  },
  {
   "cell_type": "code",
   "execution_count": null,
   "metadata": {},
   "outputs": [],
   "source": [
    "# NER\n",
    "\n",
    "#import spacy\n",
    "\n",
    "nlp = spacy.load(\"en_core_web_sm\")\n",
    "\n",
    "# increase the length cause the characters exceed max limit\n",
    "nlp.max_length = 50000000 \n",
    "\n",
    "doc = nlp(str(etweets))\n",
    "\n",
    "d= dict()\n",
    "for x in nlp(str(doc)).ents:\n",
    "    d[str(x)]= x.label_ \n",
    "\n",
    "for x,y in d.items():\n",
    "    if y == 'PERSON':\n",
    "        print(x,y)"
   ]
  },
  {
   "cell_type": "code",
   "execution_count": null,
   "metadata": {},
   "outputs": [],
   "source": []
  }
 ],
 "metadata": {
  "kernelspec": {
   "display_name": "Python 3",
   "language": "python",
   "name": "python3"
  },
  "language_info": {
   "codemirror_mode": {
    "name": "ipython",
    "version": 3
   },
   "file_extension": ".py",
   "mimetype": "text/x-python",
   "name": "python",
   "nbconvert_exporter": "python",
   "pygments_lexer": "ipython3",
   "version": "3.7.4"
  }
 },
 "nbformat": 4,
 "nbformat_minor": 2
}
