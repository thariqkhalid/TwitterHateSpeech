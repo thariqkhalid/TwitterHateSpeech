{
 "cells": [
  {
   "cell_type": "code",
   "execution_count": 135,
   "metadata": {},
   "outputs": [],
   "source": [
    "import string, re\n",
    "\n",
    "test1 = 'Yet another reason why India needs #CAA: \\n\\nHindus Beaten by Pakistani Police for Hoisting Saffron Flag in Their Own Home. Video Published to Cower Other Hindus into Submission!\\n\\n https://www.youtube.com/watch?v=lTQxDeBmCyI\\xa0…\\n@MEAIndia @Swamy39 @blsanthosh @davidfrawleyved @MODIfiedVikas @ShefVaidya'\n",
    "test2 = 'By Lending support to the nation wide protest against #NRC and #CAA nearly 4000 people took to the roads #udaipur #Rajasthan #india #Protests @1stIndiaNews @TimesNow @ANI @News18Rajasthan @zeerajasthan_ #CAA_NRC_Protests #CAARally pic.twitter.com/6CJirGJ70o'\n",
    "test3 = 'Religion based citizenship: Against the law?\\n\\n Shadan Farasat, Advocate, Supreme Court, on #CAA\\n@OnReality_Check pic.twitter.com/w4tcH2vduK'\n",
    "test4 = '@chetan_bhagat Just unable to understand as Y leftists & lutyens r forcibly clubbing #CAA, #NPR & #NRC. Fact remains that nationwide #NRC is not in picture as of now, no draft is ready, no official meeting took place. In-fact #NRC if comes will not effect Indian Citizens at least https://twitter.com/chetan_bhagat/status/1214765119575511040\\xa0…'\n",
    "test5 = '#bycottchhapaak #DeepikaPadukone ..\\nThere is a lots of issue in this country like #CAA , #NRC #NPA.. sab sawaloo kaaek hee  jawab.. #Pak.. plz who feel little awkward &  not safe go to #PAK.. enjoy therewith #FreedomOfSpeech .... https://twitter.com/manakgupta/status/1214788221114011648\\xa0…'"
   ]
  },
  {
   "cell_type": "code",
   "execution_count": 5,
   "metadata": {},
   "outputs": [],
   "source": [
    "def strip_links(text):\n",
    "    link_regex    = re.compile('((https?):((//)|(\\\\\\\\))+([\\w\\d:#@%/;$()~_?\\+-=\\\\\\.&](#!)?)*)', re.DOTALL)\n",
    "    links         = re.findall(link_regex, text)\n",
    "    for link in links:\n",
    "        text = text.replace(link[0], ', ')    \n",
    "    return text\n",
    "\n",
    "def strip_all_entities(text):\n",
    "    entity_prefixes = ['@','#']\n",
    "    for separator in  string.punctuation:\n",
    "        if separator not in entity_prefixes :\n",
    "            text = text.replace(separator,' ')\n",
    "    words = []\n",
    "    for word in text.split():\n",
    "        word = word.strip()\n",
    "        if word:\n",
    "            if word[0] not in entity_prefixes:\n",
    "                words.append(word)\n",
    "    return ' '.join(words)"
   ]
  },
  {
   "cell_type": "code",
   "execution_count": 8,
   "metadata": {},
   "outputs": [
    {
     "name": "stdout",
     "output_type": "stream",
     "text": [
      "Yet another reason why India needs Hindus Beaten by Pakistani Police for Hoisting Saffron Flag in Their Own Home Video Published to Cower Other Hindus into Submission …\n"
     ]
    }
   ],
   "source": [
    "for t in test1:\n",
    "    clean_tweet = strip_all_entities(strip_links(test1))\n",
    "print(clean_tweet)    "
   ]
  },
  {
   "cell_type": "code",
   "execution_count": 9,
   "metadata": {},
   "outputs": [
    {
     "name": "stdout",
     "output_type": "stream",
     "text": [
      "By Lending support to the nation wide protest against and nearly 4000 people took to the roads NRC Protests pic twitter com 6CJirGJ70o\n"
     ]
    }
   ],
   "source": [
    "for t in test2:\n",
    "    clean_tweet = strip_all_entities(strip_links(test2))\n",
    "print(clean_tweet)    "
   ]
  },
  {
   "cell_type": "code",
   "execution_count": 10,
   "metadata": {},
   "outputs": [
    {
     "name": "stdout",
     "output_type": "stream",
     "text": [
      "Religion based citizenship Against the law Shadan Farasat Advocate Supreme Court on Check pic twitter com w4tcH2vduK\n"
     ]
    }
   ],
   "source": [
    "for t in test3:\n",
    "    clean_tweet = strip_all_entities(strip_links(test3))\n",
    "print(clean_tweet)    "
   ]
  },
  {
   "cell_type": "code",
   "execution_count": 11,
   "metadata": {},
   "outputs": [
    {
     "name": "stdout",
     "output_type": "stream",
     "text": [
      "bhagat Just unable to understand as Y leftists lutyens r forcibly clubbing Fact remains that nationwide is not in picture as of now no draft is ready no official meeting took place In fact if comes will not effect Indian Citizens at least …\n"
     ]
    }
   ],
   "source": [
    "for t in test4:\n",
    "    clean_tweet = strip_all_entities(strip_links(test4))\n",
    "print(clean_tweet)"
   ]
  },
  {
   "cell_type": "code",
   "execution_count": 12,
   "metadata": {},
   "outputs": [
    {
     "name": "stdout",
     "output_type": "stream",
     "text": [
      "There is a lots of issue in this country like sab sawaloo kaaek hee jawab plz who feel little awkward not safe go to enjoy therewith …\n"
     ]
    }
   ],
   "source": [
    "for t in test5:\n",
    "    clean_tweet = strip_all_entities(strip_links(test5))\n",
    "print(clean_tweet)    "
   ]
  },
  {
   "cell_type": "code",
   "execution_count": 13,
   "metadata": {},
   "outputs": [
    {
     "name": "stdout",
     "output_type": "stream",
     "text": [
      "Yet another reason why India needs #CAA: \n",
      "\n",
      "Hindus Beaten by Pakistani Police for Hoisting Saffron Flag in Their Own Home. Video Published to Cower Other Hindus into Submission!\n",
      "\n",
      " https://www.youtube.com/watch?v=lTQxDeBmCyI …\n",
      "@MEAIndia @Swamy39 @blsanthosh @davidfrawleyved @MODIfiedVikas @ShefVaidya\n",
      "______________________________________________________________________________________________\n",
      "By Lending support to the nation wide protest against #NRC and #CAA nearly 4000 people took to the roads #udaipur #Rajasthan #india #Protests @1stIndiaNews @TimesNow @ANI @News18Rajasthan @zeerajasthan_ #CAA_NRC_Protests #CAARally pic.twitter.com/6CJirGJ70o\n",
      "______________________________________________________________________________________________\n",
      "Religion based citizenship: Against the law?\n",
      "\n",
      " Shadan Farasat, Advocate, Supreme Court, on #CAA\n",
      "@OnReality_Check pic.twitter.com/w4tcH2vduK\n",
      "______________________________________________________________________________________________\n",
      "@chetan_bhagat Just unable to understand as Y leftists & lutyens r forcibly clubbing #CAA, #NPR & #NRC. Fact remains that nationwide #NRC is not in picture as of now, no draft is ready, no official meeting took place. In-fact #NRC if comes will not effect Indian Citizens at least https://twitter.com/chetan_bhagat/status/1214765119575511040 …\n",
      "______________________________________________________________________________________________\n",
      "#bycottchhapaak #DeepikaPadukone ..\n",
      "There is a lots of issue in this country like #CAA , #NRC #NPA.. sab sawaloo kaaek hee  jawab.. #Pak.. plz who feel little awkward &  not safe go to #PAK.. enjoy therewith #FreedomOfSpeech .... https://twitter.com/manakgupta/status/1214788221114011648 …\n"
     ]
    }
   ],
   "source": [
    "print(test1)\n",
    "print('______________________________________________________________________________________________')\n",
    "print(test2)\n",
    "print('______________________________________________________________________________________________')\n",
    "print(test3)\n",
    "print('______________________________________________________________________________________________')\n",
    "print(test4)\n",
    "print('______________________________________________________________________________________________')\n",
    "print(test5)"
   ]
  },
  {
   "cell_type": "code",
   "execution_count": 104,
   "metadata": {},
   "outputs": [
    {
     "name": "stdout",
     "output_type": "stream",
     "text": [
      "By Lending support to the nation wide protest against NRC and CAA nearly 4000 people took to the roads udaipur Rajasthan india Protests CAA NRC Protests CAARally 6CJirGJ70o\n"
     ]
    }
   ],
   "source": [
    "#regex = re.compile('((https?):((//)|(\\\\\\\\))+([\\w\\d:#@%/;$()~_?\\+-=\\\\\\.&](#!)?)*)', re.DOTALL)\n",
    "#clean_tweet = test1.translate(str.maketrans(' ', ' ', str(regex)))\n",
    "#clean_tweet = test1.translate(str.maketrans(' ', ' ', string.punctuation))\n",
    "\n",
    "# to remove urls that being with http or https\n",
    "#clean_tweet = re.sub('(https?|http)://[-a-zA-Z0-9+&@#/%?=~_|!:,.;]*[-a-zA-Z0-9+&@#/%=~_|]', '', test4)                                    \n",
    "#test2 = ' '.join(re.sub(\"(@[A-Za-z0-9]*)|([^0-9A-Za-z \\t])|(\\w+:\\/\\/\\S+)\",\" \",test2).split())\n",
    "#test1 = ' '.join(re.sub(\"(@.*)\",\" \",test1).split())\n",
    "clean_tweet = re.sub('(https|http).*', '', test2)\n",
    "\n",
    "#' '.join(re.sub(\"(@[A-Za-z0-9]+)|([^0-9A-Za-z \\t])|(\\w+:\\/\\/\\S+)\",\" \",test4).split())\n",
    "\n",
    "# to remove other url links\n",
    "clean_tweet = re.sub(r'[-a-zA-Z0–9@:%._\\+~#=]{2,256}\\.[a-z]{2,6}\\b([-a-zA-Z0–9@:%_\\+.~#?&//=]*)', '', test2)\n",
    " \n",
    "clean_tweet = ' '.join(re.sub(\"(@[A-Za-z0-9]*)|([^0-9A-Za-z \\t])|(\\w+:\\/\\/\\S+)\",\" \",clean_tweet).split())\n",
    "#test4 = ''.join(re.sub(\"(@[A-Za-z0–9]+)|([0-9A-Za-z \\t])|(\\w+:\\/\\/\\S+)\",\" \", test4).split())    \n",
    "#for word in test1:\n",
    "#    word = word.strip()\n",
    "#    if word.startswith('#') or word.startswith('@'):\n",
    "#        test1.replace(word, ' ')\n",
    "print(clean_tweet)"
   ]
  },
  {
   "cell_type": "code",
   "execution_count": 130,
   "metadata": {},
   "outputs": [
    {
     "name": "stdout",
     "output_type": "stream",
     "text": [
      "Religion based citizenship: Against the law?\n",
      "\n",
      " Shadan Farasat, Advocate, Supreme Court, on #CAA\n",
      "@OnReality_Check  \n"
     ]
    }
   ],
   "source": [
    "#clean_tweet = ' '.join(re.sub(\"(@[A-Za-z0-9]*)|([^0-9A-Za-z \\t])|(\\w+:\\/\\/\\S+)\",\" \",test3).split())\n",
    "##clean_tweet = re.sub('(https|http).*', '', test3)\n",
    "#clean_tweet = re.sub(r'[-a-zA-Z0–9@:%._\\+~#=]{2,256}\\.[a-z]{2,6}\\b([-a-zA-Z0–9@:%_\\+.~#?&//=]*)', '', test3)\n",
    "#clean_tweet = re.sub('\\/.*(?=\\/.*?)', '', test3)\n",
    "clean_tweet = re.sub(r'''(?i)\\b((?:https?://|www\\d{0,3}[.]|[a-z0-9.\\-]+[.][a-z]{2,4}/)(?:[^\\s()<>]+|\\(([^\\s()<>]+|(\\([^\\s()<>]+\\)))*\\))+(?:\\(([^\\s()<>]+|(\\([^\\s()<>]+\\)))*\\)|[^\\s`!()\\[\\]{};:'\".,<>?«»“”‘’]))''', \" \", test3)\n",
    "#clean_tweet = ' '.join(re.sub(\"(@[A-Za-z0-9]*)|([^0-9A-Za-z \\t])|(\\w+:\\/\\/\\S+)\",\" \",test3).split())\n",
    "print(clean_tweet)"
   ]
  },
  {
   "cell_type": "code",
   "execution_count": 173,
   "metadata": {},
   "outputs": [
    {
     "name": "stdout",
     "output_type": "stream",
     "text": [
      "By Lending support to the nation wide protest against NRC and CAA nearly 4000 people took to the roads udaipur Rajasthan india Protests CAANRCProtests CAARally\n"
     ]
    }
   ],
   "source": [
    "# to remove http(s) url links\n",
    "clean_tweet = re.sub('(https|http).*', '', test2)\n",
    "\n",
    "# to remove other url links\n",
    "clean_tweet = re.sub(r'''(?i)\\b((?:https?://|www\\d{0,3}[.]|[a-z0-9.\\-]+[.][a-z]{2,4}/)(?:[^\\s()<>]+|\\(([^\\s()<>]+|(\\([^\\s()<>]+\\)))*\\))+(?:\\(([^\\s()<>]+|(\\([^\\s()<>]+\\)))*\\)|[^\\s`!()\\[\\]{};:'\".,<>?«»“”‘’]))''', \" \", test2)\n",
    "\n",
    "clean_tweet = ' '.join(re.sub('(@[A-Za-z0-9_]*)|([^0-9A-Za-z \\t])|(\\w+:\\/\\/\\S+)','',clean_tweet).split())\n",
    "\n",
    "print(clean_tweet)"
   ]
  },
  {
   "cell_type": "code",
   "execution_count": 152,
   "metadata": {},
   "outputs": [],
   "source": [
    "result = re.sub(r'@[A-Za-z0-9_]*', '', test1)"
   ]
  },
  {
   "cell_type": "code",
   "execution_count": 153,
   "metadata": {},
   "outputs": [
    {
     "data": {
      "text/plain": [
       "'Yet another reason why India needs #CAA: \\n\\nHindus Beaten by Pakistani Police for Hoisting Saffron Flag in Their Own Home. Video Published to Cower Other Hindus into Submission!\\n\\n https://www.youtube.com/watch?v=lTQxDeBmCyI\\xa0…\\n     '"
      ]
     },
     "execution_count": 153,
     "metadata": {},
     "output_type": "execute_result"
    }
   ],
   "source": [
    "result"
   ]
  },
  {
   "cell_type": "code",
   "execution_count": 183,
   "metadata": {},
   "outputs": [
    {
     "name": "stdout",
     "output_type": "stream",
     "text": [
      "By Lending support to the nation wide protest against NRC and CAA nearly 4000 people took to the roads udaipur Rajasthan india Protests CAANRCProtests CAARally\n"
     ]
    }
   ],
   "source": [
    "# to remove http(s) url links\n",
    "clean_tweet = re.sub('(https|http).*', '', test2)\n",
    "\n",
    "# to remove other url links\n",
    "clean_tweet = re.sub(r'''(?i)\\b((?:https?://|www\\d{0,3}[.]|[a-z0-9.\\-]+[.][a-z]{2,4}/)(?:[^\\s()<>]+|\\(([^\\s()<>]+|(\\([^\\s()<>]+\\)))*\\))+(?:\\(([^\\s()<>]+|(\\([^\\s()<>]+\\)))*\\)|[^\\s`!()\\[\\]{};:'\".,<>?«»“”‘’]))''', \" \", test2)\n",
    "\n",
    "# to remove mentions\n",
    "clean_tweet = ' '.join(re.sub('(@[A-Za-z0-9_]*)|([^0-9A-Za-z \\t])|(\\w+:\\/\\/\\S+)','',clean_tweet).split())\n",
    "\n",
    "print(clean_tweet)"
   ]
  },
  {
   "cell_type": "code",
   "execution_count": null,
   "metadata": {},
   "outputs": [],
   "source": []
  }
 ],
 "metadata": {
  "kernelspec": {
   "display_name": "Python 3",
   "language": "python",
   "name": "python3"
  },
  "language_info": {
   "codemirror_mode": {
    "name": "ipython",
    "version": 3
   },
   "file_extension": ".py",
   "mimetype": "text/x-python",
   "name": "python",
   "nbconvert_exporter": "python",
   "pygments_lexer": "ipython3",
   "version": "3.7.4"
  }
 },
 "nbformat": 4,
 "nbformat_minor": 2
}
